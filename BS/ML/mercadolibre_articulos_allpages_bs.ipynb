{
 "cells": [
  {
   "cell_type": "markdown",
   "metadata": {},
   "source": [
    "SCRAPPING COMPLETO"
   ]
  },
  {
   "cell_type": "code",
   "execution_count": 1,
   "metadata": {
    "scrolled": true
   },
   "outputs": [
    {
     "name": "stdout",
     "output_type": "stream",
     "text": [
      "¿Qué artículo deseas buscar?: samsung s20\n",
      "Scrapeando página 1 de 6\n",
      "Scrapeando página 2 de 6\n",
      "Scrapeando página 3 de 6\n",
      "Scrapeando página 4 de 6\n",
      "Scrapeando página 5 de 6\n",
      "Scrapeando página 6 de 6\n",
      "\n",
      "---SCRAPING COMPLETO---\n"
     ]
    }
   ],
   "source": [
    "import requests\n",
    "from bs4 import BeautifulSoup\n",
    "from lxml import etree\n",
    "import pandas as pd\n",
    "\n",
    "busqueda = input(\"¿Qué artículo deseas buscar?: \")\n",
    "link_root = \"https://listado.mercadolibre.com.pe/{}\\n\".format(busqueda)\n",
    "\n",
    "lista_titulos = []\n",
    "lista_urls = []\n",
    "lista_precios = []\n",
    "\n",
    "pag_sgte = link_root\n",
    "while True:\n",
    "    r = requests.get(pag_sgte) #Buscando el artículo\n",
    "    if r.status_code==200:\n",
    "        soup = BeautifulSoup(r.content, 'html.parser') #Saca todo el html de la página\n",
    "        #titulos↓↓↓\n",
    "        titulos = soup.find_all('h2', attrs={\"class\":\"ui-search-item__title\"}) #find_all cuando estamos seguros que corresponde al objetivo\n",
    "        titulos = [i.text for i in titulos] #Saca solo el texto, no los elementos\n",
    "        lista_titulos.extend(titulos)\n",
    "        #urls↓↓↓\n",
    "        urls = soup.find_all('a', attrs={\"class\":\"ui-search-item__group__element ui-search-link\"})\n",
    "        urls = [i.get('href') for i in urls] #Saca solo el texto, no los elementos\n",
    "        lista_urls.extend(urls)\n",
    "        #precios↓↓↓\n",
    "        html = etree.HTML(str(soup))\n",
    "        precios = html.xpath(\"//li[@class='ui-search-layout__item']//div[@class='ui-search-result__content-wrapper']//div[@class='ui-search-result__content-columns']/div[1]/div[1]/div[1]/div[1]/div[1]/span[1]/span[1]\") ####\n",
    "        precios = [i.text for i in precios] #Saca solo el texto, no los elementos\n",
    "        for i in range(len(precios)): #Convirtiendo el texto en números (float)\n",
    "            if precios[i].split(' ')[-1]=='soles':\n",
    "                precios[i] = float(precios[i].split(' ')[0] + '.00')\n",
    "            elif precios[i].split(' ')[-2]=='centavos':\n",
    "                precios[i] = float(precios[i].split(' ')[0] + '.' + precios[i].split(' ')[3])\n",
    "            else:\n",
    "                precios[i] = float('NaN')\n",
    "        lista_precios.extend(precios)\n",
    "        #Página inicial para scraping horizontal↓↓↓\n",
    "        pag_inicial = soup.find('span', attrs={\"class\":\"andes-pagination__link\"}).text\n",
    "        pag_inicial = int(pag_inicial)\n",
    "        #Página final para scraping horizontal↓↓↓\n",
    "        pag_final = soup.find('li', attrs={\"class\":\"andes-pagination__page-count\"}).text.split(\" \")[-1]\n",
    "        pag_final = int(pag_final)\n",
    "    else:\n",
    "        break\n",
    "    #Estado de scraping horizontal↓↓↓\n",
    "    print('Scrapeando página ' + str(pag_inicial) + ' de ' + str(pag_final))\n",
    "    if pag_inicial>=pag_final:\n",
    "        break\n",
    "    pag_sgte = html.xpath(\"//div[@class='ui-search-pagination']/ul/li[contains(@class, '--next')]/a\")[0].get('href')\n",
    "\n",
    "#Creando el dataframe\n",
    "articulos = pd.DataFrame({'Título':lista_titulos, 'URL':lista_urls, 'Precio':lista_precios})\n",
    "#Guardando en un archivo csv\n",
    "articulos.to_csv(\"mercadolibre_{}_allpages_bs.csv\".format(busqueda)) #Guardando la búsqueda en un archivo csv\n",
    "print('\\n---SCRAPING COMPLETO---')\n",
    "###FIN###"
   ]
  },
  {
   "cell_type": "code",
   "execution_count": 2,
   "metadata": {},
   "outputs": [
    {
     "data": {
      "text/html": [
       "<div>\n",
       "<style scoped>\n",
       "    .dataframe tbody tr th:only-of-type {\n",
       "        vertical-align: middle;\n",
       "    }\n",
       "\n",
       "    .dataframe tbody tr th {\n",
       "        vertical-align: top;\n",
       "    }\n",
       "\n",
       "    .dataframe thead th {\n",
       "        text-align: right;\n",
       "    }\n",
       "</style>\n",
       "<table border=\"1\" class=\"dataframe\">\n",
       "  <thead>\n",
       "    <tr style=\"text-align: right;\">\n",
       "      <th></th>\n",
       "      <th>Título</th>\n",
       "      <th>URL</th>\n",
       "      <th>Precio</th>\n",
       "    </tr>\n",
       "  </thead>\n",
       "  <tbody>\n",
       "    <tr>\n",
       "      <th>0</th>\n",
       "      <td>Samsung Galaxy S20 Fe 128gb 6gb Ram Snapdragon...</td>\n",
       "      <td>https://articulo.mercadolibre.com.pe/MPE-60627...</td>\n",
       "      <td>1999.0</td>\n",
       "    </tr>\n",
       "    <tr>\n",
       "      <th>1</th>\n",
       "      <td>Samsung Galaxy S20fe 256gb 8ram  Snapdragon Nu...</td>\n",
       "      <td>https://articulo.mercadolibre.com.pe/MPE-60584...</td>\n",
       "      <td>2369.0</td>\n",
       "    </tr>\n",
       "    <tr>\n",
       "      <th>2</th>\n",
       "      <td>Samsung Note 20 Ultra 256/8gb Dúos L/f Entrega...</td>\n",
       "      <td>https://articulo.mercadolibre.com.pe/MPE-60902...</td>\n",
       "      <td>3899.0</td>\n",
       "    </tr>\n",
       "    <tr>\n",
       "      <th>3</th>\n",
       "      <td>Samsung Galaxy S20 Plus 5g 128gb Dual Sim Nuevo</td>\n",
       "      <td>https://articulo.mercadolibre.com.pe/MPE-60432...</td>\n",
       "      <td>2850.0</td>\n",
       "    </tr>\n",
       "    <tr>\n",
       "      <th>4</th>\n",
       "      <td>Samsung Galaxy S20+ 128gb + 12ram</td>\n",
       "      <td>https://articulo.mercadolibre.com.pe/MPE-44088...</td>\n",
       "      <td>3999.0</td>\n",
       "    </tr>\n",
       "    <tr>\n",
       "      <th>...</th>\n",
       "      <td>...</td>\n",
       "      <td>...</td>\n",
       "      <td>...</td>\n",
       "    </tr>\n",
       "    <tr>\n",
       "      <th>266</th>\n",
       "      <td>Samsung S20 Fe 128 Gb Azul</td>\n",
       "      <td>https://articulo.mercadolibre.com.pe/MPE-61100...</td>\n",
       "      <td>1350.0</td>\n",
       "    </tr>\n",
       "    <tr>\n",
       "      <th>267</th>\n",
       "      <td>Celular Samsung S20 Plus Seminuevo</td>\n",
       "      <td>https://articulo.mercadolibre.com.pe/MPE-61182...</td>\n",
       "      <td>1850.0</td>\n",
       "    </tr>\n",
       "    <tr>\n",
       "      <th>268</th>\n",
       "      <td>Celulas Sansumg S20 Fe</td>\n",
       "      <td>https://articulo.mercadolibre.com.pe/MPE-60965...</td>\n",
       "      <td>1300.0</td>\n",
       "    </tr>\n",
       "    <tr>\n",
       "      <th>269</th>\n",
       "      <td>Celular Galaxy S20 128gb</td>\n",
       "      <td>https://articulo.mercadolibre.com.pe/MPE-61074...</td>\n",
       "      <td>1750.0</td>\n",
       "    </tr>\n",
       "    <tr>\n",
       "      <th>270</th>\n",
       "      <td>Samsung S20 Fe 128gb</td>\n",
       "      <td>https://articulo.mercadolibre.com.pe/MPE-61138...</td>\n",
       "      <td>900.0</td>\n",
       "    </tr>\n",
       "  </tbody>\n",
       "</table>\n",
       "<p>271 rows × 3 columns</p>\n",
       "</div>"
      ],
      "text/plain": [
       "                                                Título  \\\n",
       "0    Samsung Galaxy S20 Fe 128gb 6gb Ram Snapdragon...   \n",
       "1    Samsung Galaxy S20fe 256gb 8ram  Snapdragon Nu...   \n",
       "2    Samsung Note 20 Ultra 256/8gb Dúos L/f Entrega...   \n",
       "3      Samsung Galaxy S20 Plus 5g 128gb Dual Sim Nuevo   \n",
       "4                    Samsung Galaxy S20+ 128gb + 12ram   \n",
       "..                                                 ...   \n",
       "266                         Samsung S20 Fe 128 Gb Azul   \n",
       "267                 Celular Samsung S20 Plus Seminuevo   \n",
       "268                            Celulas Sansumg S20 Fe    \n",
       "269                          Celular Galaxy S20 128gb    \n",
       "270                              Samsung S20 Fe 128gb    \n",
       "\n",
       "                                                   URL  Precio  \n",
       "0    https://articulo.mercadolibre.com.pe/MPE-60627...  1999.0  \n",
       "1    https://articulo.mercadolibre.com.pe/MPE-60584...  2369.0  \n",
       "2    https://articulo.mercadolibre.com.pe/MPE-60902...  3899.0  \n",
       "3    https://articulo.mercadolibre.com.pe/MPE-60432...  2850.0  \n",
       "4    https://articulo.mercadolibre.com.pe/MPE-44088...  3999.0  \n",
       "..                                                 ...     ...  \n",
       "266  https://articulo.mercadolibre.com.pe/MPE-61100...  1350.0  \n",
       "267  https://articulo.mercadolibre.com.pe/MPE-61182...  1850.0  \n",
       "268  https://articulo.mercadolibre.com.pe/MPE-60965...  1300.0  \n",
       "269  https://articulo.mercadolibre.com.pe/MPE-61074...  1750.0  \n",
       "270  https://articulo.mercadolibre.com.pe/MPE-61138...   900.0  \n",
       "\n",
       "[271 rows x 3 columns]"
      ]
     },
     "execution_count": 2,
     "metadata": {},
     "output_type": "execute_result"
    }
   ],
   "source": [
    "articulos"
   ]
  },
  {
   "cell_type": "code",
   "execution_count": 3,
   "metadata": {},
   "outputs": [],
   "source": [
    "###FIN"
   ]
  },
  {
   "cell_type": "markdown",
   "metadata": {},
   "source": [
    "-------------------------------------------------------"
   ]
  },
  {
   "cell_type": "markdown",
   "metadata": {},
   "source": [
    "MODO DIDACTICO"
   ]
  },
  {
   "cell_type": "code",
   "execution_count": 1,
   "metadata": {},
   "outputs": [],
   "source": [
    "import requests\n",
    "from bs4 import BeautifulSoup\n",
    "from lxml import etree\n",
    "import pandas as pd"
   ]
  },
  {
   "cell_type": "code",
   "execution_count": 2,
   "metadata": {},
   "outputs": [
    {
     "name": "stdout",
     "output_type": "stream",
     "text": [
      "¿Qué artículo deseas buscar?: audifonos\n"
     ]
    }
   ],
   "source": [
    "busqueda = input(\"¿Qué artículo deseas buscar?: \")"
   ]
  },
  {
   "cell_type": "code",
   "execution_count": 3,
   "metadata": {},
   "outputs": [],
   "source": [
    "link_root = \"https://listado.mercadolibre.com.pe/{}\".format(busqueda)"
   ]
  },
  {
   "cell_type": "code",
   "execution_count": 4,
   "metadata": {},
   "outputs": [
    {
     "data": {
      "text/plain": [
       "200"
      ]
     },
     "execution_count": 4,
     "metadata": {},
     "output_type": "execute_result"
    }
   ],
   "source": [
    "r = requests.get(link_root) #Buscando el artículo\n",
    "r.status_code #Response 200 = successful"
   ]
  },
  {
   "cell_type": "code",
   "execution_count": 5,
   "metadata": {},
   "outputs": [],
   "source": [
    "soup = BeautifulSoup(r.content, 'html.parser') #Saca todo el html de la página"
   ]
  },
  {
   "cell_type": "code",
   "execution_count": 6,
   "metadata": {},
   "outputs": [
    {
     "data": {
      "text/plain": [
       "['Audífonos Inalámbricos Con Noise Cancelling Wh-1000xm4',\n",
       " 'Sony Audífonos Inalámbricos Con Noise Cancelling Wf-1000xm3',\n",
       " 'Audífonos Inalámbricos Con Noise Cancelling Wh-1000xm4',\n",
       " 'Audifonos Xiaomi Redmi Airdots 3, Qualcomm Apt-x Stereo Bass',\n",
       " 'Audífono C/microf. Razer Blackshark V2 X ',\n",
       " 'Audífonos Inalámbricos Con Noise Cancelling Wf-1000xm4',\n",
       " 'Audifonos Huawei Am61 Bluetooth Sport Lite + Regalo ',\n",
       " 'Sony Audífonos Inalámbricos Con Noise Cancelling Wf-1000xm3',\n",
       " ' Auriculares  Inalámbricos G435 Lightspeed - Negro',\n",
       " 'Jbl Tune 510bt Audifonos Bluetooth 5.0 Pure Bass Sound 40hrs',\n",
       " 'Audifonos Original Xiaomi Redmi Airdots En Stock + Tienda !!',\n",
       " 'Audifono C/microf. Razer Kraken X Lite Black',\n",
       " 'Jbl Audifonos Bluetooth 5.0 Pure Bass Sound Tune 115tws',\n",
       " 'Audifonos Inalambricos Xiaomi Redmi Airdots 3 Pro Originales',\n",
       " 'Xiaomi Redmi Buds 3 Youth Edition Audifonos Bluetooth Ip54 ',\n",
       " 'Audífono C/microf. Razer Barracuda X Wireless 7.1 Hybrid',\n",
       " 'Audífonos Bluetooth Inalámbrica F9 Táctil',\n",
       " 'Audifonos Apple AirPods 3 Original Sellados | Ultimo Modelo',\n",
       " ' Auriculares  Inalámbricos G435 Lightspeed - Negro',\n",
       " \"Macbook Air 13'' Procesador Apple M1 (8 Gb Ram, 256 Gb Ssd)\",\n",
       " 'Jbl Audifonos T110 Pure Sound Bass Harman Original Colores',\n",
       " 'Audífono Gamer Hyperx Cloud Flight Inalámbricos De Diadema P',\n",
       " 'Audifonos Haylou Gt3 2021 Microfono Mejorado Airdots +tienda',\n",
       " 'Sony Audífonos Internos Con Micrófono Mdr-ex15ap',\n",
       " 'Laptop Huawei Matebook D14 I5 8gb Ram, 512gb Ssd + Regalos',\n",
       " 'Skullcandy Sesh Audifonos Bluetooth 5.0 True Wireless 2019',\n",
       " 'Audífono C/microf. Razer Hammerhead True Wireless X Black',\n",
       " 'Audifonos Xiaomi Mi In Ear Pro Hd Hybrid Sellados + Tienda',\n",
       " 'Audífonos Inalámbricos Wh-ch510',\n",
       " 'Audífono C/microf. Razer Kraken Kitty Edition Usb Quartz',\n",
       " 'Xiaomi Redmi Buds 3 Lite',\n",
       " 'Audifonos Samsung Buds Live Negros 02 Tiendas Envios Instant',\n",
       " 'Skullcandy Audifonos Mini Bluetooth 5.0 True Tws Ipx4 Dime',\n",
       " 'Audifonos Haylou W1 Aptx Qualcomm Cancelacion Ruido Airdots',\n",
       " 'Auriculares Gamer Redragon Zeus H510 2',\n",
       " ' Auriculares  Inalámbricos G435 Lightspeed',\n",
       " 'Laptop Huawei Matebook D14 I3 8gb Ram, 256gb Ssd + Regalos',\n",
       " 'Audífono In Ear Trn Mt1 Hi-fi  Dinámicos  Micrófono Calidad',\n",
       " 'Audífonos Inalambricos Qcy T6 Xiaomi Bluetooth Airdots ',\n",
       " 'Auriculares Gamer Logitech G Pro X Blue Voice Wireless',\n",
       " 'Jbl Tune 125bt 16 Horas Audifonos Bluetooth 5.0 Universal',\n",
       " 'Audífonos Earpods Apple iPhone 11, 12, X, 8, 7 Lightning',\n",
       " 'Audífono Bluetooth Lenovo He05 Magnético  Ipx6',\n",
       " 'G432 7.1 Surround Sound Wired Gaming Headset',\n",
       " 'Sony Audifonos Bluetooth 5.0 Wireless 15 Horas Wi-c310',\n",
       " 'Audifonos Original Xiaomi Redmi Buds 3 Youth Edition Airdots',\n",
       " 'Parlantes Razer Nommo Chroma - 2.0 Gaming Speakers',\n",
       " 'Skullcandy Audifonos Crusher Wireless Premium Sound Bass 40h',\n",
       " 'Xiaomi Redmi Buds 3 Pro Airdots Audifonos Bluetooth Original',\n",
       " 'Sony Audifonos Bluetooth 5.0 Extra Bass 15hrs Wi-xb400',\n",
       " \"Macbook Air 13'' Procesador Apple M1 (8 Gb Ram, 256 Gb Ssd)\",\n",
       " 'Cable Splitter De Audifono  Audio Y Micrófono Macho Y Hembra',\n",
       " 'Almohadillas Para Skullcandy Crusher Y Hesh Wireless',\n",
       " 'Xiaomi Redmi Buds 3 Pro Audifonos Originales']"
      ]
     },
     "execution_count": 6,
     "metadata": {},
     "output_type": "execute_result"
    }
   ],
   "source": [
    "#Extrayendo todos los títulos\n",
    "titulos = soup.find_all('h2', attrs={\"class\":\"ui-search-item__title\"}) #find_all cuando estamos seguros que corresponde al objetivo\n",
    "titulos = [i.text for i in titulos] #Saca solo el texto, no los elementos.\n",
    "titulos"
   ]
  },
  {
   "cell_type": "code",
   "execution_count": 7,
   "metadata": {},
   "outputs": [
    {
     "data": {
      "text/plain": [
       "['https://click1.mercadolibre.com.pe/mclics/clicks/external/MPE/count?a=lSL4I0zVXdhIwYiuTHOYr28X%2BpIXxoa8v1S758cPOvYLXw5zExpMHAH2yHJxgOdHeFJJqEWOap4gpY0zm9z1nPINJHcaBptLGBODhzBwyQ5SfzDyBpQ5blzzom94t3dlyvd%2BNl1ReFXAQkWttXpvy6ogmY9CroiIp2QceCUfpIsXr9kdMFRP06T%2FPGPvcB7DFBEmev6nqn7Fy0Pw16qvmFNbHITnwCNxL6qwV6xfgwXF05bbdl3Vu6acDbNhSSBYbKZBz4jY%2BSLLQibbiVuOem0pKPOGGN1DdSs55BCA5vOtSWr4%2Fu%2BfCMtt4UsC6K3Z6bJJiWRdI6L7szOJPPOgIUselkVwwOJ%2BIJj%2Fjjd2eldE5MW%2BTkNbZO6CzH%2B%2BNhibuqPjqghKZi3pVePDRPL3C%2BTguq4Z5uf1n8oBC8pkDFogqyTry1p2K0D7eWWriY1EwbMiIdKF9tMMHZ2dqHckU7mbALaxnm1e%2FnML4o566JRDR4ge5J1u6BvGsdoiu1X5BSxeNqdkz7PrMW14vEbTdEo17HWfbr%2FIELro6QQwwuachuMXxXk8ZHEiPXwGHXJsxCbD8yBZajy0N4GUjFAq0WcSVbd7%2B9TwRGOKT%2FULNauqT16KvwPbLHSF50oviQYX%2Byz5MMjY&rb=x',\n",
       " 'https://click1.mercadolibre.com.pe/mclics/clicks/external/MPE/count?a=KqT2S6bZqVaI0GvIq0Yy3lZ%2BrAVUhxIrSh2DvJ9FtDwkAAXmw3e7jBKHOSg%2BhQ2HaV8%2B8qLmHAqzR90qrCBc7z%2BfY9bPnzGZVsT2tvqsPm0q24FwWlSdH5LRCNT9eVC8PbWD1VwkkV9bjmKTM8qTfoQ0u7INBHJjpD7t%2BKJEPZdLIS4tLiZoRJnUa31PCMSLBLgfX%2BNc%2FKNlbAHcEaAPcSyYzxBSjOFh4CxQ2JLc2UCPnYY%2Bgz3a9sSnRpHjH9FEH%2F%2BXyQrQOZ%2BjOl7WAf5C%2BrUFRR03dsHPZHbeUMVNTwrACJTu334R7KT96YJJrHi2mLAGwnEVFs29R0tdt3W9MI%2FOf7iOgPNYTAunBVNrfHMDLO753aHPML6G%2BpgVpew2mQjMEfCLZKQNdGb6h3l75HkC0UIdwjcW1zeVM1%2BiuZVsny3EBTa4Oe%2BmhiLcOnI5Ie%2BFi1TiPxwLRyWh59B4cfOt%2BnExAcXj9vI3LCmrcg0nOfXo1dlbjvG3yOrnczJ%2FJvGEYEaHV%2BW6W639A5sN6si%2By5qYa%2F%2Fm6YR3Ng1HTjR31D5VsNfRLULSyHubuoS%2BvTPeomOHRvDyBRXJRC08D3a2L4pVbRIMIvv6lOQuTqYJm3FAf931c4p9E0nh%2BGhJI9oJpd4m5f%2FvjZQ%3D&rb=x',\n",
       " 'https://articulo.mercadolibre.com.pe/MPE-440820439-audifonos-inalambricos-con-noise-cancelling-wh-1000xm4-_JM#position=3&search_layout=stack&type=item&tracking_id=10e5332d-d431-4e9a-b156-b60ed66141e0',\n",
       " 'https://articulo.mercadolibre.com.pe/MPE-447051978-audifonos-xiaomi-redmi-airdots-3-qualcomm-apt-x-stereo-bass-_JM#position=4&search_layout=stack&type=item&tracking_id=10e5332d-d431-4e9a-b156-b60ed66141e0',\n",
       " 'https://articulo.mercadolibre.com.pe/MPE-440946804-audifono-cmicrof-razer-blackshark-v2-x-_JM#position=5&search_layout=stack&type=item&tracking_id=10e5332d-d431-4e9a-b156-b60ed66141e0',\n",
       " 'https://articulo.mercadolibre.com.pe/MPE-603178089-audifonos-inalambricos-con-noise-cancelling-wf-1000xm4-_JM#position=6&search_layout=stack&type=item&tracking_id=10e5332d-d431-4e9a-b156-b60ed66141e0',\n",
       " 'https://articulo.mercadolibre.com.pe/MPE-434303167-audifonos-huawei-am61-bluetooth-sport-lite-regalo-_JM#position=7&search_layout=stack&type=item&tracking_id=10e5332d-d431-4e9a-b156-b60ed66141e0',\n",
       " 'https://articulo.mercadolibre.com.pe/MPE-438559148-sony-audifonos-inalambricos-con-noise-cancelling-wf-1000xm3-_JM#position=8&search_layout=stack&type=item&tracking_id=10e5332d-d431-4e9a-b156-b60ed66141e0',\n",
       " 'https://articulo.mercadolibre.com.pe/MPE-604522634-auriculares-inalambricos-g435-lightspeed-negro-_JM#position=9&search_layout=stack&type=item&tracking_id=10e5332d-d431-4e9a-b156-b60ed66141e0',\n",
       " 'https://articulo.mercadolibre.com.pe/MPE-446539797-jbl-tune-510bt-audifonos-bluetooth-50-pure-bass-sound-40hrs-_JM#position=10&search_layout=stack&type=item&tracking_id=10e5332d-d431-4e9a-b156-b60ed66141e0',\n",
       " 'https://articulo.mercadolibre.com.pe/MPE-433005812-audifonos-original-xiaomi-redmi-airdots-en-stock-tienda--_JM#position=11&search_layout=stack&type=item&tracking_id=10e5332d-d431-4e9a-b156-b60ed66141e0',\n",
       " 'https://articulo.mercadolibre.com.pe/MPE-438825884-audifono-cmicrof-razer-kraken-x-lite-black-_JM#position=12&search_layout=stack&type=item&tracking_id=10e5332d-d431-4e9a-b156-b60ed66141e0',\n",
       " 'https://articulo.mercadolibre.com.pe/MPE-445522340-jbl-audifonos-bluetooth-50-pure-bass-sound-tune-115tws-_JM#position=13&search_layout=stack&type=item&tracking_id=10e5332d-d431-4e9a-b156-b60ed66141e0',\n",
       " 'https://articulo.mercadolibre.com.pe/MPE-447784606-audifonos-inalambricos-xiaomi-redmi-airdots-3-pro-originales-_JM#position=14&search_layout=stack&type=item&tracking_id=10e5332d-d431-4e9a-b156-b60ed66141e0',\n",
       " 'https://articulo.mercadolibre.com.pe/MPE-605933206-xiaomi-redmi-buds-3-youth-edition-audifonos-bluetooth-ip54-_JM#position=15&search_layout=stack&type=item&tracking_id=10e5332d-d431-4e9a-b156-b60ed66141e0',\n",
       " 'https://articulo.mercadolibre.com.pe/MPE-447079322-audifono-cmicrof-razer-barracuda-x-wireless-71-hybrid-_JM#position=16&search_layout=stack&type=item&tracking_id=10e5332d-d431-4e9a-b156-b60ed66141e0',\n",
       " 'https://articulo.mercadolibre.com.pe/MPE-445642979-audifonos-bluetooth-inalambrica-f9-tactil-_JM#position=17&search_layout=stack&type=item&tracking_id=10e5332d-d431-4e9a-b156-b60ed66141e0',\n",
       " 'https://articulo.mercadolibre.com.pe/MPE-438742768-audifonos-apple-airpods-3-original-sellados-ultimo-modelo-_JM#position=18&search_layout=stack&type=item&tracking_id=10e5332d-d431-4e9a-b156-b60ed66141e0',\n",
       " 'https://click1.mercadolibre.com.pe/mclics/clicks/external/MPE/count?a=bWYmmW9ejvkIf7atDCL9wIa37S2Yz43J%2FJe5FoRY40FnhRjaoJV8N%2FaFMOugAAwbyg6M7wLha3hARfYTE83SMPvShlqoeVf5LzIieNhpN9UK3tq8RkrTKa2zlswYN8pMnS4Hj2k1FGldhpy%2FFdoEbod1WyMaW88cBuTy0KxB3yZ4Gf4nrkIUOaaH4kxjQHmyzGNsZ2O9ATDLsOjP2X1f9A%2BK%2BTz0M53sXZ6T1EAVqcVpsFbmrI8l%2BSIoom04UJGJG47XnqVAF9Gj2Aj5P3iZt%2FxKoey2KBm5zAaMkNtOmBthKBaM7KXpRrXA1O0MeEHVCB%2Frxv05qpLGKh%2BjbyxtJuZ7escqN9dMDKzAU5x4Hhrs2j7unr7im6%2F8%2B8fKaGrVTS11ocU6%2Ba5vmEUakzFBqs5cFKFJbE8sy8EQErQFy%2F4dbMBOIC2BZ4VHm7MQhnbqoq8dtI6la9gIGGpE0DI8QV5rTyMuZeCYQkHjwJvW757xqthJC4bNx6mm7wWNXFIjR%2FeIIG%2BdLDMQpJlEoyKyrT%2Brp31aumLiC269CXhUSZx3CW6c6BnX5HW7ZDyNZj4IdUV4KJ9Qrj4veZPQ%2Fe4OH8xDCLEDwN07ksPYq1uoW1VxsUAr87616FVW6%2BWWJewS&rb=x',\n",
       " 'https://click1.mercadolibre.com.pe/mclics/clicks/external/MPE/count?a=78SwhuKHBNI6wxQNt%2FSDeV0Fts9CdtpSKIjFUvOyLs4C7DyOG2apqsvDSziKPhVmir40xG4m2i%2Fuw3%2FPW3%2Bi4o4wnoppi4PADc2HHGZ%2BXMkigyWt%2B12eh8NQ6yLEyAyQYJtGQ1pWXdPPEA%2F17lHuQDFZCGQ4MEUI7qjKaAH7R0v3ETRMQCWRBzO6clfUcBook9oet%2FtUxgPV3OHB4mNoGkEr9S%2FXHFla2k6jnd%2BOK90vlwO43Po4LM6zuvWnsA%2F2AkkPqhQlLdl%2F5VImGWl5wC8AXptvzoJ02JsHolnoN5EM2D6NFrhBYlsw86FrtP%2FqMLWZzK53bV46CPKy9%2BiWR%2Fy6Ov1FnHr75eqC6r8uPeO7JT04qYso5S4UTOzAd3g6KFTtE3vT8Ix91a8U2uNdOLcy%2FIIIgcDaoWV3i5bgONjmw4CQJk4mqJFxqrX09gnuXtmWwwt%2BThsnRuH5xdfGfdtUgPfT5mE%2BlVS8jcC2Q0g2pCkh3TZQmUo3U%2FRTUWi2w2x8qCQsqEOFLONKQ%2FGs048Whw1%2FyKzTkSn8K7SI5ahaEOC1Gq333iwqXnhsCX7bjWHP03yPb2B0%2FPr392P3G0yEggORWBHMj8xGtur6WhKolVkSKz7A8gORnClzNT7vBaQASCmZGxc%3D&rb=x',\n",
       " 'https://articulo.mercadolibre.com.pe/MPE-434111263-jbl-audifonos-t110-pure-sound-bass-harman-original-colores-_JM#position=21&search_layout=stack&type=item&tracking_id=10e5332d-d431-4e9a-b156-b60ed66141e0',\n",
       " 'https://articulo.mercadolibre.com.pe/MPE-446566975-audifono-gamer-hyperx-cloud-flight-inalambricos-de-diadema-p-_JM#position=22&search_layout=stack&type=item&tracking_id=10e5332d-d431-4e9a-b156-b60ed66141e0',\n",
       " 'https://articulo.mercadolibre.com.pe/MPE-445172171-audifonos-haylou-gt3-2021-microfono-mejorado-airdots-tienda-_JM#position=23&search_layout=stack&type=item&tracking_id=10e5332d-d431-4e9a-b156-b60ed66141e0',\n",
       " 'https://articulo.mercadolibre.com.pe/MPE-438540823-sony-audifonos-internos-con-microfono-mdr-ex15ap-_JM#position=24&search_layout=stack&type=item&tracking_id=10e5332d-d431-4e9a-b156-b60ed66141e0',\n",
       " 'https://articulo.mercadolibre.com.pe/MPE-446645731-laptop-huawei-matebook-d14-i5-8gb-ram-512gb-ssd-regalos-_JM#position=25&search_layout=stack&type=item&tracking_id=10e5332d-d431-4e9a-b156-b60ed66141e0',\n",
       " 'https://articulo.mercadolibre.com.pe/MPE-438543069-skullcandy-sesh-audifonos-bluetooth-50-true-wireless-2019-_JM#position=26&search_layout=stack&type=item&tracking_id=10e5332d-d431-4e9a-b156-b60ed66141e0',\n",
       " 'https://articulo.mercadolibre.com.pe/MPE-446592823-audifono-cmicrof-razer-hammerhead-true-wireless-x-black-_JM#position=27&search_layout=stack&type=item&tracking_id=10e5332d-d431-4e9a-b156-b60ed66141e0',\n",
       " 'https://articulo.mercadolibre.com.pe/MPE-435423611-audifonos-xiaomi-mi-in-ear-pro-hd-hybrid-sellados-tienda-_JM#position=28&search_layout=stack&type=item&tracking_id=10e5332d-d431-4e9a-b156-b60ed66141e0',\n",
       " 'https://articulo.mercadolibre.com.pe/MPE-440471065-audifonos-inalambricos-wh-ch510-_JM#position=29&search_layout=stack&type=item&tracking_id=10e5332d-d431-4e9a-b156-b60ed66141e0',\n",
       " 'https://articulo.mercadolibre.com.pe/MPE-440322017-audifono-cmicrof-razer-kraken-kitty-edition-usb-quartz-_JM#position=30&search_layout=stack&type=item&tracking_id=10e5332d-d431-4e9a-b156-b60ed66141e0',\n",
       " 'https://articulo.mercadolibre.com.pe/MPE-606865153-xiaomi-redmi-buds-3-lite-_JM#position=31&search_layout=stack&type=item&tracking_id=10e5332d-d431-4e9a-b156-b60ed66141e0',\n",
       " 'https://articulo.mercadolibre.com.pe/MPE-447366486-audifonos-samsung-buds-live-negros-02-tiendas-envios-instant-_JM#position=32&search_layout=stack&type=item&tracking_id=10e5332d-d431-4e9a-b156-b60ed66141e0',\n",
       " 'https://articulo.mercadolibre.com.pe/MPE-447189228-skullcandy-audifonos-mini-bluetooth-50-true-tws-ipx4-dime-_JM#position=33&search_layout=stack&type=item&tracking_id=10e5332d-d431-4e9a-b156-b60ed66141e0',\n",
       " 'https://articulo.mercadolibre.com.pe/MPE-603278449-audifonos-haylou-w1-aptx-qualcomm-cancelacion-ruido-airdots-_JM#position=34&search_layout=stack&type=item&tracking_id=10e5332d-d431-4e9a-b156-b60ed66141e0',\n",
       " 'https://articulo.mercadolibre.com.pe/MPE-437520870-auriculares-gamer-redragon-zeus-h510-2-_JM#position=35&search_layout=stack&type=item&tracking_id=10e5332d-d431-4e9a-b156-b60ed66141e0',\n",
       " 'https://articulo.mercadolibre.com.pe/MPE-603736356-auriculares-inalambricos-g435-lightspeed-_JM#position=36&search_layout=stack&type=item&tracking_id=10e5332d-d431-4e9a-b156-b60ed66141e0',\n",
       " 'https://articulo.mercadolibre.com.pe/MPE-600078904-laptop-huawei-matebook-d14-i3-8gb-ram-256gb-ssd-regalos-_JM#position=37&search_layout=stack&type=item&tracking_id=10e5332d-d431-4e9a-b156-b60ed66141e0',\n",
       " 'https://articulo.mercadolibre.com.pe/MPE-605206701-audifono-in-ear-trn-mt1-hi-fi-dinamicos-microfono-calidad-_JM#position=38&search_layout=stack&type=item&tracking_id=10e5332d-d431-4e9a-b156-b60ed66141e0',\n",
       " 'https://articulo.mercadolibre.com.pe/MPE-444322557-audifonos-inalambricos-qcy-t6-xiaomi-bluetooth-airdots-_JM#position=39&search_layout=stack&type=item&tracking_id=10e5332d-d431-4e9a-b156-b60ed66141e0',\n",
       " 'https://articulo.mercadolibre.com.pe/MPE-605725009-auriculares-gamer-logitech-g-pro-x-blue-voice-wireless-_JM#position=40&search_layout=stack&type=item&tracking_id=10e5332d-d431-4e9a-b156-b60ed66141e0',\n",
       " 'https://articulo.mercadolibre.com.pe/MPE-601627532-jbl-tune-125bt-16-horas-audifonos-bluetooth-50-universal-_JM#position=41&search_layout=stack&type=item&tracking_id=10e5332d-d431-4e9a-b156-b60ed66141e0',\n",
       " 'https://articulo.mercadolibre.com.pe/MPE-603756595-audifonos-earpods-apple-iphone-11-12-x-8-7-lightning-_JM#position=42&search_layout=stack&type=item&tracking_id=10e5332d-d431-4e9a-b156-b60ed66141e0',\n",
       " 'https://articulo.mercadolibre.com.pe/MPE-441749118-audifono-bluetooth-lenovo-he05-magnetico-ipx6-_JM#position=43&search_layout=stack&type=item&tracking_id=10e5332d-d431-4e9a-b156-b60ed66141e0',\n",
       " 'https://articulo.mercadolibre.com.pe/MPE-439951901-g432-71-surround-sound-wired-gaming-headset-_JM#position=44&search_layout=stack&type=item&tracking_id=10e5332d-d431-4e9a-b156-b60ed66141e0',\n",
       " 'https://articulo.mercadolibre.com.pe/MPE-437540050-sony-audifonos-bluetooth-50-wireless-15-horas-wi-c310-_JM#position=45&search_layout=stack&type=item&tracking_id=10e5332d-d431-4e9a-b156-b60ed66141e0',\n",
       " 'https://articulo.mercadolibre.com.pe/MPE-606544307-audifonos-original-xiaomi-redmi-buds-3-youth-edition-airdots-_JM#position=46&search_layout=stack&type=item&tracking_id=10e5332d-d431-4e9a-b156-b60ed66141e0',\n",
       " 'https://articulo.mercadolibre.com.pe/MPE-431414975-parlantes-razer-nommo-chroma-20-gaming-speakers-_JM#position=47&search_layout=stack&type=item&tracking_id=10e5332d-d431-4e9a-b156-b60ed66141e0',\n",
       " 'https://articulo.mercadolibre.com.pe/MPE-434095625-skullcandy-audifonos-crusher-wireless-premium-sound-bass-40h-_JM#position=48&search_layout=stack&type=item&tracking_id=10e5332d-d431-4e9a-b156-b60ed66141e0',\n",
       " 'https://articulo.mercadolibre.com.pe/MPE-608234146-xiaomi-redmi-buds-3-pro-airdots-audifonos-bluetooth-original-_JM#position=49&search_layout=stack&type=item&tracking_id=10e5332d-d431-4e9a-b156-b60ed66141e0',\n",
       " 'https://articulo.mercadolibre.com.pe/MPE-439775941-sony-audifonos-bluetooth-50-extra-bass-15hrs-wi-xb400-_JM#position=50&search_layout=stack&type=item&tracking_id=10e5332d-d431-4e9a-b156-b60ed66141e0',\n",
       " 'https://articulo.mercadolibre.com.pe/MPE-447362338-macbook-air-13-procesador-apple-m1-8-gb-ram-256-gb-ssd-_JM#position=51&search_layout=stack&type=item&tracking_id=10e5332d-d431-4e9a-b156-b60ed66141e0',\n",
       " 'https://articulo.mercadolibre.com.pe/MPE-442018120-cable-splitter-de-audifono-audio-y-microfono-macho-y-hembra-_JM#position=52&search_layout=stack&type=item&tracking_id=10e5332d-d431-4e9a-b156-b60ed66141e0',\n",
       " 'https://articulo.mercadolibre.com.pe/MPE-443779751-almohadillas-para-skullcandy-crusher-y-hesh-wireless-_JM#position=53&search_layout=stack&type=item&tracking_id=10e5332d-d431-4e9a-b156-b60ed66141e0',\n",
       " 'https://articulo.mercadolibre.com.pe/MPE-604873546-xiaomi-redmi-buds-3-pro-audifonos-originales-_JM#position=54&search_layout=stack&type=item&tracking_id=10e5332d-d431-4e9a-b156-b60ed66141e0']"
      ]
     },
     "execution_count": 7,
     "metadata": {},
     "output_type": "execute_result"
    }
   ],
   "source": [
    "#Extrayendo todas las urls\n",
    "urls = soup.find_all('a', attrs={\"class\":\"ui-search-item__group__element ui-search-link\"})\n",
    "urls = [i.get('href') for i in urls] #Saca solo el texto, no los elementos.\n",
    "urls"
   ]
  },
  {
   "cell_type": "code",
   "execution_count": 8,
   "metadata": {},
   "outputs": [
    {
     "data": {
      "text/plain": [
       "[899.0,\n",
       " 399.0,\n",
       " 899.0,\n",
       " 159.9,\n",
       " 164.0,\n",
       " 949.0,\n",
       " 119.0,\n",
       " 399.0,\n",
       " 315.0,\n",
       " 159.0,\n",
       " 79.9,\n",
       " 134.0,\n",
       " 189.0,\n",
       " 244.99,\n",
       " 109.0,\n",
       " 359.0,\n",
       " 49.77,\n",
       " 889.0,\n",
       " 315.0,\n",
       " 4499.0,\n",
       " 42.0,\n",
       " 407.55,\n",
       " 95.9,\n",
       " 39.0,\n",
       " 2599.0,\n",
       " 159.0,\n",
       " 306.0,\n",
       " 129.0,\n",
       " 129.0,\n",
       " 539.0,\n",
       " 104.0,\n",
       " 489.0,\n",
       " 139.0,\n",
       " 165.9,\n",
       " 229.0,\n",
       " 339.9,\n",
       " 1799.0,\n",
       " 39.33,\n",
       " 119.9,\n",
       " 729.0,\n",
       " 139.0,\n",
       " 113.05,\n",
       " 52.25,\n",
       " 232.0,\n",
       " 144.0,\n",
       " 105.9,\n",
       " 598.0,\n",
       " 409.0,\n",
       " 259.0,\n",
       " 189.24,\n",
       " 4499.0,\n",
       " 7.92,\n",
       " 54.9,\n",
       " 279.0]"
      ]
     },
     "execution_count": 8,
     "metadata": {},
     "output_type": "execute_result"
    }
   ],
   "source": [
    "#Extrayendo todos los precios (con decimales) - Cuidado: revisar bien los objetos y sus disposiciones en la página web\n",
    "html = etree.HTML(str(soup))\n",
    "precios = html.xpath(\"//li[@class='ui-search-layout__item']//div[@class='ui-search-result__content-wrapper']//div[@class='ui-search-result__content-columns']/div[1]/div[1]/div[1]/div[1]/div[1]/span[1]/span[1]\") ####\n",
    "# ruta alternativa: //div[@class='ui-search-price ui-search-price--size-medium']/div/span[1]/span[1]\n",
    "precios = [i.text for i in precios] #Saca solo el texto, no los elementos.\n",
    "\n",
    "for i in range(len(precios)): #Convirtiendo el texto en números (float)\n",
    "    if precios[i].split(' ')[-1]=='soles':\n",
    "        precios[i] = float(precios[i].split(' ')[0] + '.00')\n",
    "    elif precios[i].split(' ')[-2]=='centavos':\n",
    "        precios[i] = float(precios[i].split(' ')[0] + '.' + precios[i].split(' ')[3])\n",
    "    else:\n",
    "        precios[i] = float('NaN')\n",
    "precios"
   ]
  },
  {
   "cell_type": "code",
   "execution_count": 9,
   "metadata": {},
   "outputs": [
    {
     "data": {
      "text/plain": [
       "'https://listado.mercadolibre.com.pe/audifonos_Desde_51_NoIndex_True'"
      ]
     },
     "execution_count": 9,
     "metadata": {},
     "output_type": "execute_result"
    }
   ],
   "source": [
    "pag_sgte = html.xpath(\"//div[@class='ui-search-pagination']/ul/li[contains(@class, '--next')]/a\")[0].get('href')\n",
    "pag_sgte"
   ]
  },
  {
   "cell_type": "code",
   "execution_count": 10,
   "metadata": {},
   "outputs": [
    {
     "data": {
      "text/plain": [
       "1"
      ]
     },
     "execution_count": 10,
     "metadata": {},
     "output_type": "execute_result"
    }
   ],
   "source": [
    "# también funciona con: pag_inicial = html.xpath(\"//span[@class='andes-pagination__link']\")[0].text\n",
    "pag_inicial = soup.find('span', attrs={\"class\":\"andes-pagination__link\"}).text\n",
    "pag_inicial = int(pag_inicial)\n",
    "pag_inicial"
   ]
  },
  {
   "cell_type": "code",
   "execution_count": 11,
   "metadata": {},
   "outputs": [
    {
     "data": {
      "text/plain": [
       "40"
      ]
     },
     "execution_count": 11,
     "metadata": {},
     "output_type": "execute_result"
    }
   ],
   "source": [
    "pag_final = soup.find('li', attrs={\"class\":\"andes-pagination__page-count\"}).text.split(\" \")[-1]\n",
    "pag_final = int(pag_final)\n",
    "pag_final"
   ]
  },
  {
   "cell_type": "code",
   "execution_count": 20,
   "metadata": {},
   "outputs": [],
   "source": [
    "###FIN"
   ]
  }
 ],
 "metadata": {
  "kernelspec": {
   "display_name": "Python 3",
   "language": "python",
   "name": "python3"
  },
  "language_info": {
   "codemirror_mode": {
    "name": "ipython",
    "version": 3
   },
   "file_extension": ".py",
   "mimetype": "text/x-python",
   "name": "python",
   "nbconvert_exporter": "python",
   "pygments_lexer": "ipython3",
   "version": "3.8.5"
  }
 },
 "nbformat": 4,
 "nbformat_minor": 4
}
