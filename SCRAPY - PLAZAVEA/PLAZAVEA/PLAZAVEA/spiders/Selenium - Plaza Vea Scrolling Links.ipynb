{
 "cells": [
  {
   "cell_type": "code",
   "execution_count": 1,
   "metadata": {},
   "outputs": [],
   "source": [
    "from selenium import webdriver\n",
    "from time import sleep\n",
    "import pandas as pd\n",
    "\n",
    "driver = webdriver.Chrome(\"chromedriver.exe\")"
   ]
  },
  {
   "cell_type": "code",
   "execution_count": 22,
   "metadata": {},
   "outputs": [
    {
     "name": "stdout",
     "output_type": "stream",
     "text": [
      "Mostrando 24 productos de un total de 300\n",
      "Mostrando 72 productos de un total de 300\n",
      "Mostrando 120 productos de un total de 300\n",
      "Mostrando 168 productos de un total de 300\n",
      "Mostrando 192 productos de un total de 300\n",
      "Mostrando 216 productos de un total de 300\n",
      "Mostrando 240 productos de un total de 300\n",
      "Mostrando 264 productos de un total de 300\n",
      "Mostrando 288 productos de un total de 300\n",
      "Mostrando 300 productos de un total de 300\n",
      "--> Links extraídos\n",
      "------------------------\n",
      "Archivo *csv descargado\n"
     ]
    }
   ],
   "source": [
    "driver.get(\"https://www.plazavea.com.pe/search/?_query=laptop%20core%20i5\") #Link raiz\n",
    "sleep(4)\n",
    "\n",
    "elements_total = int(driver.find_elements_by_class_name(\"Search__content__count__total\")[0].text) #Numero de productos encontrados\n",
    "elements_actual = len(driver.find_elements_by_class_name(\"Showcase__link\")) #Es una lista q contiene todos los links de productos\n",
    "\n",
    "container = driver.find_elements_by_class_name(\"Showcase__link\")\n",
    "\n",
    "print('Mostrando' ,str(elements_actual), 'productos de un total de', str(elements_total))\n",
    "\n",
    "while elements_actual < elements_total:\n",
    "    driver.execute_script(\"arguments[0].scrollIntoView();\", container[elements_actual-1])\n",
    "    sleep(5)\n",
    "    elements_actual = len(driver.find_elements_by_class_name(\"Showcase__link\"))\n",
    "    print('Mostrando' ,str(elements_actual), 'productos de un total de', str(elements_total))\n",
    "    \n",
    "    container = driver.find_elements_by_class_name(\"Showcase__link\")\n",
    "    \n",
    "    if elements_actual == elements_total:\n",
    "        break\n",
    "\n",
    "driver.execute_script(\"arguments[0].scrollIntoView();\", container[elements_actual-1])\n",
    "print('--> Links extraídos')\n",
    "\n",
    "#Guardando en un CSV\n",
    "links = []\n",
    "for i in container:\n",
    "    mm = i.get_attribute(\"href\")\n",
    "    links.append(mm)\n",
    "    \n",
    "df = pd.DataFrame({'links':links}) \n",
    "df.to_csv('links.csv', index = False) \n",
    "print('------------------------')\n",
    "print('Archivo *csv descargado')\n"
   ]
  },
  {
   "cell_type": "markdown",
   "metadata": {},
   "source": [
    "--------------"
   ]
  },
  {
   "cell_type": "markdown",
   "metadata": {},
   "source": []
  },
  {
   "cell_type": "markdown",
   "metadata": {},
   "source": [
    "### TRABAJAR EN OESCHLE"
   ]
  },
  {
   "cell_type": "code",
   "execution_count": 23,
   "metadata": {},
   "outputs": [],
   "source": [
    "driver.get(\"https://www.oechsle.pe/tecnologia/computo/laptop\") #Link raiz\n",
    "sleep(4)"
   ]
  },
  {
   "cell_type": "code",
   "execution_count": null,
   "metadata": {},
   "outputs": [],
   "source": [
    "driver.find_elements_by_xpath(\"//*[@id='pagination']/ul/li[7]/a\")[0].click() #hace click en el boton siguiente"
   ]
  },
  {
   "cell_type": "markdown",
   "metadata": {},
   "source": [
    "POR CADA PAGINA (PAGINATION) EXTRAER LOS LINKS DE CADA CONTENEDOR E IR GUARDANDOLO EN UNA LISTA"
   ]
  },
  {
   "cell_type": "code",
   "execution_count": null,
   "metadata": {},
   "outputs": [],
   "source": []
  },
  {
   "cell_type": "code",
   "execution_count": null,
   "metadata": {},
   "outputs": [],
   "source": []
  },
  {
   "cell_type": "markdown",
   "metadata": {},
   "source": [
    "-------------------"
   ]
  },
  {
   "cell_type": "code",
   "execution_count": null,
   "metadata": {},
   "outputs": [],
   "source": []
  },
  {
   "cell_type": "code",
   "execution_count": null,
   "metadata": {},
   "outputs": [],
   "source": []
  }
 ],
 "metadata": {
  "kernelspec": {
   "display_name": "Python 3",
   "language": "python",
   "name": "python3"
  },
  "language_info": {
   "codemirror_mode": {
    "name": "ipython",
    "version": 3
   },
   "file_extension": ".py",
   "mimetype": "text/x-python",
   "name": "python",
   "nbconvert_exporter": "python",
   "pygments_lexer": "ipython3",
   "version": "3.8.5"
  }
 },
 "nbformat": 4,
 "nbformat_minor": 4
}
